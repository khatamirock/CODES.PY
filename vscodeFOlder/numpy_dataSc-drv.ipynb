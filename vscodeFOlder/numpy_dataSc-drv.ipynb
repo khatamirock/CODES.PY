{
 "cells": [
  {
   "cell_type": "code",
   "execution_count": 45,
   "outputs": [],
   "source": [
    "import numpy as np"
   ],
   "metadata": {
    "collapsed": false,
    "pycharm": {
     "name": "#%%\n",
     "is_executing": false
    }
   }
  },
  {
   "cell_type": "code",
   "execution_count": 49,
   "outputs": [
    {
     "name": "stdout",
     "text": [
      "[1 2 3 4 5 6 7 8 9]\n",
      "[2 3 4 5]\n"
     ],
     "output_type": "stream"
    }
   ],
   "source": [
    "ar=np.arange(1,10)\n",
    "print(ar)\n",
    "print(ar[1:5])\n"
   ],
   "metadata": {
    "collapsed": false,
    "pycharm": {
     "name": "#%%\n",
     "is_executing": false
    }
   }
  },
  {
   "cell_type": "code",
   "execution_count": 107,
   "outputs": [
    {
     "name": "stdout",
     "text": [
      "da>>\n",
      " [[1 2 3]\n",
      " [4 5 6]\n",
      " [7 8 9]]\n"
     ],
     "output_type": "stream"
    }
   ],
   "source": [
    "da=ar.reshape(3,3)\n",
    "print('da>>\\n',da)"
   ],
   "metadata": {
    "collapsed": false,
    "pycharm": {
     "name": "#%%\n",
     "is_executing": false
    }
   }
  },
  {
   "cell_type": "code",
   "execution_count": 114,
   "outputs": [
    {
     "name": "stdout",
     "text": [
      "[[1 2 3]] < 0-1>\n",
      "[[4 5 6]\n",
      " [7 8 9]] <1--><>// \n",
      "[[7 8 9]]  < 2-->\n"
     ],
     "output_type": "stream"
    }
   ],
   "source": [
    "print(da[0:1],'< 0-1>')\n",
    "print(da[1:],'<1--><>// ')\n",
    "print(da[2:] ,' < 2-->')"
   ],
   "metadata": {
    "collapsed": false,
    "pycharm": {
     "name": "#%%\n",
     "is_executing": false
    }
   }
  },
  {
   "cell_type": "code",
   "execution_count": 129,
   "outputs": [
    {
     "name": "stdout",
     "text": [
      "[[2]\n",
      " [5]\n",
      " [8]]\n"
     ],
     "output_type": "stream"
    }
   ],
   "source": [
    "print(da[0:,1:2])   ###( <specify the range in a row>, <specify range of..rows > )\n",
    "##   (0:,1:3) means from 0 to last elem, and from 1 to 2 row...\n"
   ],
   "metadata": {
    "collapsed": false,
    "pycharm": {
     "name": "#%%\n",
     "is_executing": false
    }
   }
  }
 ],
 "metadata": {
  "kernelspec": {
   "name": "python3",
   "language": "python",
   "display_name": "Python 3"
  },
  "language_info": {
   "codemirror_mode": {
    "name": "ipython",
    "version": 2
   },
   "file_extension": ".py",
   "mimetype": "text/x-python",
   "name": "python",
   "nbconvert_exporter": "python",
   "pygments_lexer": "ipython2",
   "version": "2.7.6"
  },
  "pycharm": {
   "stem_cell": {
    "cell_type": "raw",
    "source": [],
    "metadata": {
     "collapsed": false
    }
   }
  }
 },
 "nbformat": 4,
 "nbformat_minor": 0
}